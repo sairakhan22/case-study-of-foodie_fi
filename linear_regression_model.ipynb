{
  "nbformat": 4,
  "nbformat_minor": 0,
  "metadata": {
    "colab": {
      "provenance": [],
      "toc_visible": true,
      "authorship_tag": "ABX9TyNDBtgoQ8ESCsduCJJLNnZs",
      "include_colab_link": true
    },
    "kernelspec": {
      "name": "python3",
      "display_name": "Python 3"
    },
    "language_info": {
      "name": "python"
    }
  },
  "cells": [
    {
      "cell_type": "markdown",
      "metadata": {
        "id": "view-in-github",
        "colab_type": "text"
      },
      "source": [
        "<a href=\"https://colab.research.google.com/github/sairakhan22/case-study-of-foodie_fi/blob/main/linear_regression_model.ipynb\" target=\"_parent\"><img src=\"https://colab.research.google.com/assets/colab-badge.svg\" alt=\"Open In Colab\"/></a>"
      ]
    },
    {
      "cell_type": "code",
      "source": [
        "import pandas as pd\n",
        "from sklearn.model_selection import train_test_split\n",
        "from sklearn.preprocessing import LabelEncoder\n",
        "from sklearn.linear_model import LinearRegression\n",
        "from sklearn.metrics import mean_squared_error, r2_score\n"
      ],
      "metadata": {
        "id": "2D_ixxaQF4cZ"
      },
      "execution_count": 3,
      "outputs": []
    },
    {
      "cell_type": "code",
      "source": [
        "# Load the neurological disorder and air quality data\n",
        "neurological_data = pd.read_excel('neurological _disorder_data.xlsx')\n",
        "air_quality_data = pd.read_excel('air_quality_data.xlsx')\n"
      ],
      "metadata": {
        "id": "DRUV-z-hF4gD"
      },
      "execution_count": 4,
      "outputs": []
    },
    {
      "cell_type": "code",
      "source": [
        "# Convert date columns to datetime\n",
        "neurological_data['date'] = pd.to_datetime(neurological_data['date'], errors='coerce')\n",
        "air_quality_data['date'] = pd.to_datetime(air_quality_data['date'], errors='coerce')\n",
        "\n",
        "# Drop rows with missing dates\n",
        "neurological_data.dropna(subset=['date'], inplace=True)\n",
        "air_quality_data.dropna(subset=['date'], inplace=True)\n",
        "\n",
        "# Merge the datasets on the date column\n",
        "merged_data = pd.merge(neurological_data, air_quality_data, on='date', how='inner')\n"
      ],
      "metadata": {
        "id": "OXcCuPaPF4jg"
      },
      "execution_count": 5,
      "outputs": []
    },
    {
      "cell_type": "code",
      "source": [
        "# Drop rows where 'Diagnose' is missing\n",
        "merged_data.dropna(subset=['Diagnose'], inplace=True)\n"
      ],
      "metadata": {
        "id": "GIHJvr9mF4nv"
      },
      "execution_count": 6,
      "outputs": []
    },
    {
      "cell_type": "code",
      "source": [
        "# Encode 'Diagnose' using Label Encoding\n",
        "label_encoder = LabelEncoder()\n",
        "merged_data['Diagnose_Encoded'] = label_encoder.fit_transform(merged_data['Diagnose'])\n"
      ],
      "metadata": {
        "id": "b9b2q62QF4rY"
      },
      "execution_count": 7,
      "outputs": []
    },
    {
      "cell_type": "code",
      "source": [
        "# Define the feature and target\n",
        "X = merged_data[['PM2.5 (ug/m3)']]\n",
        "y = merged_data['Diagnose_Encoded']\n"
      ],
      "metadata": {
        "id": "KwIvxzNCF4vJ"
      },
      "execution_count": 8,
      "outputs": []
    },
    {
      "cell_type": "code",
      "source": [
        "# Split the data (80% train, 20% test)\n",
        "X_train, X_test, y_train, y_test = train_test_split(X, y, test_size=0.2, random_state=42)\n"
      ],
      "metadata": {
        "id": "5MFoFrEiGMd9"
      },
      "execution_count": 9,
      "outputs": []
    },
    {
      "cell_type": "code",
      "source": [
        "# Initialize and train the Linear Regression model\n",
        "model = LinearRegression()\n",
        "model.fit(X_train, y_train)\n"
      ],
      "metadata": {
        "colab": {
          "base_uri": "https://localhost:8080/",
          "height": 74
        },
        "id": "2hg6NOCtGMh1",
        "outputId": "49bfe930-a5b9-4f8b-e928-d0fce29d0a7a"
      },
      "execution_count": 10,
      "outputs": [
        {
          "output_type": "execute_result",
          "data": {
            "text/plain": [
              "LinearRegression()"
            ],
            "text/html": [
              "<style>#sk-container-id-1 {color: black;}#sk-container-id-1 pre{padding: 0;}#sk-container-id-1 div.sk-toggleable {background-color: white;}#sk-container-id-1 label.sk-toggleable__label {cursor: pointer;display: block;width: 100%;margin-bottom: 0;padding: 0.3em;box-sizing: border-box;text-align: center;}#sk-container-id-1 label.sk-toggleable__label-arrow:before {content: \"▸\";float: left;margin-right: 0.25em;color: #696969;}#sk-container-id-1 label.sk-toggleable__label-arrow:hover:before {color: black;}#sk-container-id-1 div.sk-estimator:hover label.sk-toggleable__label-arrow:before {color: black;}#sk-container-id-1 div.sk-toggleable__content {max-height: 0;max-width: 0;overflow: hidden;text-align: left;background-color: #f0f8ff;}#sk-container-id-1 div.sk-toggleable__content pre {margin: 0.2em;color: black;border-radius: 0.25em;background-color: #f0f8ff;}#sk-container-id-1 input.sk-toggleable__control:checked~div.sk-toggleable__content {max-height: 200px;max-width: 100%;overflow: auto;}#sk-container-id-1 input.sk-toggleable__control:checked~label.sk-toggleable__label-arrow:before {content: \"▾\";}#sk-container-id-1 div.sk-estimator input.sk-toggleable__control:checked~label.sk-toggleable__label {background-color: #d4ebff;}#sk-container-id-1 div.sk-label input.sk-toggleable__control:checked~label.sk-toggleable__label {background-color: #d4ebff;}#sk-container-id-1 input.sk-hidden--visually {border: 0;clip: rect(1px 1px 1px 1px);clip: rect(1px, 1px, 1px, 1px);height: 1px;margin: -1px;overflow: hidden;padding: 0;position: absolute;width: 1px;}#sk-container-id-1 div.sk-estimator {font-family: monospace;background-color: #f0f8ff;border: 1px dotted black;border-radius: 0.25em;box-sizing: border-box;margin-bottom: 0.5em;}#sk-container-id-1 div.sk-estimator:hover {background-color: #d4ebff;}#sk-container-id-1 div.sk-parallel-item::after {content: \"\";width: 100%;border-bottom: 1px solid gray;flex-grow: 1;}#sk-container-id-1 div.sk-label:hover label.sk-toggleable__label {background-color: #d4ebff;}#sk-container-id-1 div.sk-serial::before {content: \"\";position: absolute;border-left: 1px solid gray;box-sizing: border-box;top: 0;bottom: 0;left: 50%;z-index: 0;}#sk-container-id-1 div.sk-serial {display: flex;flex-direction: column;align-items: center;background-color: white;padding-right: 0.2em;padding-left: 0.2em;position: relative;}#sk-container-id-1 div.sk-item {position: relative;z-index: 1;}#sk-container-id-1 div.sk-parallel {display: flex;align-items: stretch;justify-content: center;background-color: white;position: relative;}#sk-container-id-1 div.sk-item::before, #sk-container-id-1 div.sk-parallel-item::before {content: \"\";position: absolute;border-left: 1px solid gray;box-sizing: border-box;top: 0;bottom: 0;left: 50%;z-index: -1;}#sk-container-id-1 div.sk-parallel-item {display: flex;flex-direction: column;z-index: 1;position: relative;background-color: white;}#sk-container-id-1 div.sk-parallel-item:first-child::after {align-self: flex-end;width: 50%;}#sk-container-id-1 div.sk-parallel-item:last-child::after {align-self: flex-start;width: 50%;}#sk-container-id-1 div.sk-parallel-item:only-child::after {width: 0;}#sk-container-id-1 div.sk-dashed-wrapped {border: 1px dashed gray;margin: 0 0.4em 0.5em 0.4em;box-sizing: border-box;padding-bottom: 0.4em;background-color: white;}#sk-container-id-1 div.sk-label label {font-family: monospace;font-weight: bold;display: inline-block;line-height: 1.2em;}#sk-container-id-1 div.sk-label-container {text-align: center;}#sk-container-id-1 div.sk-container {/* jupyter's `normalize.less` sets `[hidden] { display: none; }` but bootstrap.min.css set `[hidden] { display: none !important; }` so we also need the `!important` here to be able to override the default hidden behavior on the sphinx rendered scikit-learn.org. See: https://github.com/scikit-learn/scikit-learn/issues/21755 */display: inline-block !important;position: relative;}#sk-container-id-1 div.sk-text-repr-fallback {display: none;}</style><div id=\"sk-container-id-1\" class=\"sk-top-container\"><div class=\"sk-text-repr-fallback\"><pre>LinearRegression()</pre><b>In a Jupyter environment, please rerun this cell to show the HTML representation or trust the notebook. <br />On GitHub, the HTML representation is unable to render, please try loading this page with nbviewer.org.</b></div><div class=\"sk-container\" hidden><div class=\"sk-item\"><div class=\"sk-estimator sk-toggleable\"><input class=\"sk-toggleable__control sk-hidden--visually\" id=\"sk-estimator-id-1\" type=\"checkbox\" checked><label for=\"sk-estimator-id-1\" class=\"sk-toggleable__label sk-toggleable__label-arrow\">LinearRegression</label><div class=\"sk-toggleable__content\"><pre>LinearRegression()</pre></div></div></div></div></div>"
            ]
          },
          "metadata": {},
          "execution_count": 10
        }
      ]
    },
    {
      "cell_type": "code",
      "source": [
        "# Predict on the test data\n",
        "y_pred = model.predict(X_test)\n",
        "\n",
        "# Evaluate the model\n",
        "mse = mean_squared_error(y_test, y_pred)\n",
        "r2 = r2_score(y_test, y_pred)\n",
        "\n",
        "# Print evaluation results\n",
        "print(\"Mean Squared Error:\", mse)\n",
        "print(\"R-squared:\", r2)\n"
      ],
      "metadata": {
        "colab": {
          "base_uri": "https://localhost:8080/"
        },
        "id": "kADFwddwGMln",
        "outputId": "f8a17613-844f-456e-9fb9-fa2e52c5541d"
      },
      "execution_count": 11,
      "outputs": [
        {
          "output_type": "stream",
          "name": "stdout",
          "text": [
            "Mean Squared Error: 43567.53158959212\n",
            "R-squared: -0.00406182415077283\n"
          ]
        }
      ]
    },
    {
      "cell_type": "code",
      "source": [
        "# Round the predictions to the nearest integer (since diagnoses are categorical)\n",
        "y_pred_rounded = y_pred.round()\n",
        "\n",
        "# Convert the rounded predictions back to their original diagnosis labels\n",
        "y_pred_labels = label_encoder.inverse_transform(y_pred_rounded.astype(int))\n",
        "\n",
        "# Print the predicted diagnoses\n",
        "print(y_pred_labels)\n"
      ],
      "metadata": {
        "colab": {
          "base_uri": "https://localhost:8080/"
        },
        "id": "IPlcoGdLGMqV",
        "outputId": "b4c32d45-b689-42db-84db-218708b623a7"
      },
      "execution_count": 12,
      "outputs": [
        {
          "output_type": "stream",
          "name": "stdout",
          "text": [
            "['Low Pressure Headach' 'Left basal ganglia haemorrhage with IVE'\n",
            " 'Lumbar PIVD' 'Likely Osteomalacia ( VIt D 11 )' 'Lower Back Ache'\n",
            " 'Likely Seronegative NMOSD' 'Left parital lobe Bleed'\n",
            " 'Low Pressure Headach' 'Low Pressure Headach' 'MS'\n",
            " 'Likely Seronegative NMOSD' 'MS/Mogad/Nmosd???' 'Limb Weakness'\n",
            " 'Lower Limb Weakness, Dysuria' 'MS' 'Likely Osteomalacia ( VIt D 11 )'\n",
            " 'Likely Parkinson Disease' 'Likely Parkinson Disease'\n",
            " 'Lower Limb Weakness, Dysuria' 'Likely Seronegative NMOSD'\n",
            " 'Low Pressure Headach' 'Lumbar PIVD' 'Likely Parkinson Disease'\n",
            " 'Left\\xa0cerebral\\xa0infarct' 'Left Thalamic Infarct' 'Limb Weakness'\n",
            " 'MYSTINIC CRISES' 'MALIGNANT MCA INFARCT' 'Low Pressure Headach'\n",
            " 'Left basal ganglia haemorrhage with IVE' 'MS ???' 'Lower Back Ache'\n",
            " 'Left\\xa0cerebral\\xa0infarct' 'Lower Limb Weakness, Dysuria'\n",
            " 'Low Pressure Headach' 'Likely Osteomalacia ( VIt D 11 )'\n",
            " 'Likely Parkinson Disease' 'Low Pressure Headach'\n",
            " 'Left basal ganglia haemorrhage with IVE'\n",
            " 'Left basal ganglia haemorrhage with IVE' 'Left\\xa0cerebral\\xa0infarct'\n",
            " 'Likely Osteomalacia ( VIt D 11 )' 'Low Pressure Headach'\n",
            " 'Likely Parkinson Disease' 'Meningio-encephalitis'\n",
            " 'Likely Seronegative NMOSD'\n",
            " 'Likely Fahr,S Syndrome Secondary To Hyppcalcemia'\n",
            " 'Left basal ganglia haemorrhage with IVE' 'Left parital lobe Bleed'\n",
            " 'Letm' 'Low Pressure Headach' 'Low Grade Pontine Glioma?'\n",
            " 'Low Pressure Headach' 'Letm' 'MS vs NMOSD' 'Likely Seronegative NMOSD'\n",
            " 'Lower Limbs Weakness' 'Likely Osteomalacia ( VIt D 11 )'\n",
            " 'Likely Fahr,S Syndrome Secondary To Hyppcalcemia'\n",
            " 'Meningio-encephalitis ?' 'Lower Limb Weakness, Dysuria'\n",
            " 'Low Grade Pontine Glioma?' 'MALIGNANT MCA INFARCT'\n",
            " 'Likely Fahr,S Syndrome Secondary To Hyppcalcemia' 'Letm'\n",
            " 'Likely Fahr,S Syndrome Secondary To Hyppcalcemia'\n",
            " 'Lower Limb Weakness, Dysuria' 'Lower Back Ache' 'MS'\n",
            " 'Lower Limb Weakness, Dysuria' 'Meningio-encephalitis ?'\n",
            " 'Left parital lobe Bleed' 'Likely Seronegative NMOSD'\n",
            " 'Lower Limb Weakness, Dysuria' 'Left basal ganglia haemorrhage with IVE'\n",
            " 'MND?' 'Low Pressure Headach'\n",
            " 'Likely Fahr,S Syndrome Secondary To Hyppcalcemia'\n",
            " 'Likely Fahr,S Syndrome Secondary To Hyppcalcemia'\n",
            " 'Likely Osteomalacia ( VIt D 11 )' 'MND?'\n",
            " 'Likely Osteomalacia ( VIt D 11 )' 'Left Thalamic Infarct' 'Letm'\n",
            " 'Limb Weakness' 'Letm' 'Letm' 'Limb Weakness' 'Meningio Encephalitis'\n",
            " 'Likely Osteomalacia ( VIt D 11 )' 'Limb Weakness'\n",
            " 'Left basal ganglia haemorrhage with IVE'\n",
            " 'Lower Limb Weakness With Unirary Retention' 'Likely Seronegative NMOSD'\n",
            " 'Low Grade Pontine Glioma?' 'Lower Back Ache' 'Lower Back Ache'\n",
            " 'Left basal ganglia haemorrhage with IVE' 'Likely Parkinson Disease'\n",
            " 'Likely Parkinson Disease' 'Lumber Radiculpathy'\n",
            " 'Likely Seronegative NMOSD' 'Likely Parkinson Disease' 'MS vs NMOSD'\n",
            " 'Meningio-encephalitis' 'Limb Weakness' 'MS vs NMOSD' 'Limb Weakness'\n",
            " 'Low Pressure Headach' 'Lower Limb Weakness With Unirary Retention'\n",
            " 'Lower Back Ache' 'MALIGNANT MCA INFARCT' 'Lower Limbs Weakness'\n",
            " 'Left basal ganglia haemorrhage with IVE' 'Meningio-encephalitis'\n",
            " 'Limb Weakness' 'MS' 'Letm' 'Letm' 'Limb Weakness'\n",
            " 'Low Grade Pontine Glioma?' 'Meningio-encephalitis ?' 'Letm'\n",
            " 'MYSTINIC CRISES' 'MALIGNANT MCA INFARCT' 'Lower Limb Weakness'\n",
            " 'Likely Osteomalacia ( VIt D 11 )' 'Likely Seronegative NMOSD'\n",
            " 'Lower Back Ache' 'Likely Parkinson Disease' 'Likely Seronegative NMOSD'\n",
            " 'Likely Fahr,S Syndrome Secondary To Hyppcalcemia'\n",
            " 'Left basal ganglia haemorrhage with IVE' 'Left Thalamic Infarct'\n",
            " 'Lower Limb Weakness With Unirary Retention' 'Low Pressure Headach'\n",
            " 'Left basal ganglia haemorrhage with IVE' 'Lt Basal Gangilia H/Stroke'\n",
            " 'Manigioma' 'MS vs NMOSD' 'Likely Osteomalacia ( VIt D 11 )'\n",
            " 'Low Pressure Headach' 'Limb Weakness' 'Left parital lobe Bleed'\n",
            " 'Lower Limbs Weakness' 'Left basal ganglia haemorrhage with IVE'\n",
            " 'Low Grade Pontine Glioma?'\n",
            " 'Likely Fahr,S Syndrome Secondary To Hyppcalcemia'\n",
            " 'Left Thalamic Infarct' 'Likely Parkinson Disease'\n",
            " 'Malignant MCA Infarct With Aspiration Pneumonia'\n",
            " 'Likely Osteomalacia ( VIt D 11 )'\n",
            " 'Likely Fahr,S Syndrome Secondary To Hyppcalcemia'\n",
            " 'Likely Parkinson Disease' 'Limb Weakness'\n",
            " 'Likely Fahr,S Syndrome Secondary To Hyppcalcemia' 'Letm' 'MS ???'\n",
            " 'Left basal ganglia haemorrhage with IVE' 'Low Pressure Headach'\n",
            " 'Left parital lobe Bleed' 'Lower Limb Weakness, Dysuria' 'MND?'\n",
            " 'Likely Parkinson Disease' 'Left basal ganglia haemorrhage with IVE'\n",
            " 'Left Thalamic Infarct' 'Likely Parkinson Disease'\n",
            " 'Left basal ganglia haemorrhage with IVE' 'Lower Back Ache'\n",
            " 'Left parital lobe Bleed' 'MS/Mogad/Nmosd???' 'Low Grade Pontine Glioma?'\n",
            " 'Letm' 'Lower Limb Weakness, Dysuria' 'Limb Weakness'\n",
            " 'Likely Parkinson Disease' 'MS vs NMOSD' 'MS ???'\n",
            " 'Left\\xa0cerebral\\xa0infarct' 'Lumber Radiculpathy ?'\n",
            " 'Likely Parkinson Disease' 'Likely Seronegative NMOSD'\n",
            " 'Likely Parkinson Disease' 'Lower Limb Weakness, Dysuria'\n",
            " 'Left\\xa0cerebral\\xa0infarct' 'Lower Limb Weakness, Dysuria'\n",
            " 'Limb Weakness' 'Letm' 'Limb Weakness' 'Left Thalamic Infarct'\n",
            " 'Likely Osteomalacia ( VIt D 11 )' 'Likely Osteomalacia ( VIt D 11 )'\n",
            " 'Lower Back Ache' 'Likely Parkinson Disease' 'Likely Seronegative NMOSD'\n",
            " 'Lumber Radiculpathy ?' 'Lumber Radiculpathy ?' 'MS vs NMOSD'\n",
            " 'Likely Fahr,S Syndrome Secondary To Hyppcalcemia'\n",
            " 'Likely Osteomalacia ( VIt D 11 )' 'MS/Mogad/Nmosd???'\n",
            " 'Likely Parkinson Disease' 'Likely Osteomalacia ( VIt D 11 )'\n",
            " 'Lower Limb Weakness' 'Left\\xa0cerebral\\xa0infarct'\n",
            " 'Likely Osteomalacia ( VIt D 11 )' 'MS/Mogad/Nmosd???' 'MS ???'\n",
            " 'Lower Back Ache' 'Lower Back Ache' 'Likely Seronegative NMOSD'\n",
            " 'Left\\xa0cerebral\\xa0infarct' 'Limb Weakness'\n",
            " 'Likely Fahr,S Syndrome Secondary To Hyppcalcemia'\n",
            " 'Likely Parkinson Disease' 'Limb Weakness' 'Limb Weakness'\n",
            " 'Lumber Radiculpathy ?' 'Low Grade Pontine Glioma?'\n",
            " 'Lt Basal Gangilia H/Stroke' 'Lumber Radiculpathy ?'\n",
            " 'Lower Limb Weakness' 'Limb Weakness' 'MALIGNANT MCA INFARCT'\n",
            " 'Likely Fahr,S Syndrome Secondary To Hyppcalcemia'\n",
            " 'Likely Osteomalacia ( VIt D 11 )' 'Likely Seronegative NMOSD' 'Letm'\n",
            " 'Lower Limb Weakness' 'Likely Osteomalacia ( VIt D 11 )'\n",
            " 'Left parital lobe Bleed' 'Left Thalamic Infarct'\n",
            " 'Megaencephaly with Seizures'\n",
            " 'Likely Fahr,S Syndrome Secondary To Hyppcalcemia'\n",
            " 'Likely Fahr,S Syndrome Secondary To Hyppcalcemia'\n",
            " 'Likely Seronegative NMOSD' 'Lower Limb Weakness With Unirary Retention'\n",
            " 'Limb Weakness' 'Left parital lobe Bleed' 'Left Thalamic Infarct'\n",
            " 'Left basal ganglia haemorrhage with IVE' 'Left Thalamic Infarct'\n",
            " 'Low Grade Pontine Glioma?' 'Low Pressure Headach' 'Lower Limbs Weakness'\n",
            " 'Limb Weakness' 'Letm' 'Low Grade Pontine Glioma?'\n",
            " 'Low Grade Pontine Glioma?' 'Limb Weakness' 'Likely Seronegative NMOSD'\n",
            " 'MCA Infarct' 'Left basal ganglia haemorrhage with IVE'\n",
            " 'Likely Osteomalacia ( VIt D 11 )' 'Left Thalamic Bleed'\n",
            " 'Left\\xa0cerebral\\xa0infarct' 'Lt Basal Gangilia H/Stroke'\n",
            " 'Left\\xa0cerebral\\xa0infarct' 'Limb Weakness' 'Limb Weakness'\n",
            " 'Likely Seronegative NMOSD' 'Left Thalamic Infarct'\n",
            " 'Likely Parkinson Disease' 'Likely Parkinson Disease'\n",
            " 'Likely Parkinson Disease' 'Likely Osteomalacia ( VIt D 11 )'\n",
            " 'MS/Mogad/Nmosd???' 'Low Grade Pontine Glioma?'\n",
            " 'Left basal ganglia haemorrhage with IVE' 'Left\\xa0cerebral\\xa0infarct'\n",
            " 'MALIGNANT MCA INFARCT' 'Likely Osteomalacia ( VIt D 11 )'\n",
            " 'Likely Osteomalacia ( VIt D 11 )' 'Low Grade Pontine Glioma?'\n",
            " 'Left\\xa0cerebral\\xa0infarct' 'Left parital lobe Bleed'\n",
            " 'Likely Osteomalacia ( VIt D 11 )' 'Limb Weakness'\n",
            " 'Left parital lobe Bleed' 'Likely Parkinson Disease'\n",
            " 'Left basal ganglia haemorrhage with IVE'\n",
            " 'Likely Osteomalacia ( VIt D 11 )' 'Lower Back Ache'\n",
            " 'Likely Parkinson Disease' 'Lower Limb Weakness With Unirary Retention'\n",
            " 'Likely Fahr,S Syndrome Secondary To Hyppcalcemia'\n",
            " 'Left basal ganglia haemorrhage with IVE' 'Megaencephaly with Seizures'\n",
            " 'MND / ALS ??' 'Lower Limbs Weakness' 'Likely Osteomalacia ( VIt D 11 )'\n",
            " 'Lumber Radiculpathy ?' 'Likely Seronegative NMOSD' 'MS ???'\n",
            " 'Low Pressure Headach' 'Likely Parkinson Disease' 'MS ???'\n",
            " 'Likely Seronegative NMOSD' 'Lower Back Ache'\n",
            " 'Likely Osteomalacia ( VIt D 11 )' 'Likely Osteomalacia ( VIt D 11 )'\n",
            " 'MYSTINIC CRISES' 'MND?' 'Likely Osteomalacia ( VIt D 11 )' 'MS'\n",
            " 'Low Grade Pontine Glioma?' 'Lower Limb Weakness' 'Lumber Radiculpathy'\n",
            " 'Likely Osteomalacia ( VIt D 11 )' 'Likely Seronegative NMOSD'\n",
            " 'Left Thalamic Infarct' 'Likely Seronegative NMOSD'\n",
            " 'Left parital lobe Bleed' 'MS/Mogad/Nmosd???'\n",
            " 'Lower Limb Weakness, Dysuria' 'Malignant MCA Ischemic Infarct'\n",
            " 'Left\\xa0cerebral\\xa0infarct' 'Likely Osteomalacia ( VIt D 11 )'\n",
            " 'MND / ALS ??' 'Low Pressure Headach' 'MS ???'\n",
            " 'Likely Fahr,S Syndrome Secondary To Hyppcalcemia'\n",
            " 'Likely Fahr,S Syndrome Secondary To Hyppcalcemia'\n",
            " 'Left\\xa0cerebral\\xa0infarct' 'Limb Weakness' 'Likely Parkinson Disease'\n",
            " 'Lower Back Ache' 'Lower Back Ache' 'Left\\xa0cerebral\\xa0infarct'\n",
            " 'Left Thalamic Infarct' 'Malignant MCA Infarct With Aspiration Pneumonia'\n",
            " 'Lower Back Ache' 'Low Grade Pontine Glioma?' 'Likely Parkinson Disease'\n",
            " 'Likely Seronegative NMOSD' 'Lower Limb Weakness'\n",
            " 'Likely Osteomalacia ( VIt D 11 )' 'Likely Osteomalacia ( VIt D 11 )'\n",
            " 'Likely Seronegative NMOSD' 'Likely Seronegative NMOSD'\n",
            " 'Low Grade Pontine Glioma?' 'Left basal ganglia haemorrhage with IVE'\n",
            " 'Left\\xa0cerebral\\xa0infarct' 'Letm' 'MALIGNANT MCA INFARCT'\n",
            " 'MS/Mogad/Nmosd???' 'Left\\xa0cerebral\\xa0infarct'\n",
            " 'Left basal ganglia haemorrhage with IVE' 'Limb Weakness'\n",
            " 'Likely Osteomalacia ( VIt D 11 )'\n",
            " 'Left basal ganglia haemorrhage with IVE'\n",
            " 'Likely Osteomalacia ( VIt D 11 )' 'Low Pressure Headach'\n",
            " 'Lower Back Ache' 'Lower Back Ache' 'MND?'\n",
            " 'Likely Osteomalacia ( VIt D 11 )' 'Likely Osteomalacia ( VIt D 11 )'\n",
            " 'Lumber Radiculpathy ?' 'Lower Back Ache' 'MND / ALS ??'\n",
            " 'Left basal ganglia haemorrhage with IVE' 'MND / ALS ??'\n",
            " 'Likely Osteomalacia ( VIt D 11 )' 'Lower Back Ache' 'Letm'\n",
            " 'Lower Limb Weakness, Dysuria' 'Letm' 'Likely Seronegative NMOSD'\n",
            " 'Lower Limb Weakness' 'Limb Weakness' 'Likely Osteomalacia ( VIt D 11 )'\n",
            " 'Lower Limb Weakness With Unirary Retention'\n",
            " 'Likely Osteomalacia ( VIt D 11 )' 'Likely Osteomalacia ( VIt D 11 )'\n",
            " 'Limb Weakness' 'Likely Seronegative NMOSD' 'Low Pressure Headach'\n",
            " 'Lower Limb Weakness' 'Likely Fahr,S Syndrome Secondary To Hyppcalcemia'\n",
            " 'MS vs NMOSD' 'Letm' 'Lower Back Ache'\n",
            " 'Likely Fahr,S Syndrome Secondary To Hyppcalcemia'\n",
            " 'Likely Parkinson Disease' 'Likely Seronegative NMOSD'\n",
            " 'Lumber Radiculpathy' 'Likely Osteomalacia ( VIt D 11 )'\n",
            " 'Likely Seronegative NMOSD' 'Lower Back Ache' 'Likely Parkinson Disease'\n",
            " 'Likely Seronegative NMOSD' 'Likely Osteomalacia ( VIt D 11 )'\n",
            " 'Lower Limb Weakness, Dysuria' 'Left parital lobe Bleed' 'Limb Weakness'\n",
            " 'Left Thalamic Infarct' 'Likely Osteomalacia ( VIt D 11 )' 'Letm'\n",
            " 'MS vs NMOSD' 'Low Grade Pontine Glioma?' 'Low Grade Pontine Glioma?'\n",
            " 'Likely Osteomalacia ( VIt D 11 )' 'Left parital lobe Bleed'\n",
            " 'Low Grade Pontine Glioma?' 'MALIGNANT MCA INFARCT'\n",
            " 'Lower Limb Weakness With Unirary Retention' 'Lower Back Ache'\n",
            " 'Left basal ganglia haemorrhage with IVE' 'MYSTINIC CRISES'\n",
            " 'Low Pressure Headach' 'Likely Osteomalacia ( VIt D 11 )'\n",
            " 'Likely Seronegative NMOSD' 'Left\\xa0cerebral\\xa0infarct' 'Letm'\n",
            " 'Lower Back Ache' 'Malignant MCA Ischemic Infarct' 'MND / ALS ??'\n",
            " 'MYSTINIC CRISES' 'Lower Back Ache' 'Letm' 'Left Thalamic Infarct'\n",
            " 'Likely Parkinson Disease' 'Lower Limb Weakness, Dysuria'\n",
            " 'Left\\xa0cerebral\\xa0infarct' 'Mass in frontal lobe'\n",
            " 'Lumber Radiculpathy' 'Likely Osteomalacia ( VIt D 11 )'\n",
            " 'Likely Osteomalacia ( VIt D 11 )' 'MCA Infarct' 'Left Thalamic Bleed'\n",
            " 'Left parital lobe Bleed' 'Likely Osteomalacia ( VIt D 11 )'\n",
            " 'Lower Limb Weakness' 'Lumber Radiculpathy ?' 'Lumbar PIVD'\n",
            " 'Likely Seronegative NMOSD' 'Likely Parkinson Disease'\n",
            " 'Likely Seronegative NMOSD'\n",
            " 'Likely Fahr,S Syndrome Secondary To Hyppcalcemia'\n",
            " 'Likely Fahr,S Syndrome Secondary To Hyppcalcemia'\n",
            " 'Left parital lobe Bleed' 'Lower Back Ache' 'Letm'\n",
            " 'Likely Parkinson Disease'\n",
            " 'Likely Fahr,S Syndrome Secondary To Hyppcalcemia'\n",
            " 'Likely Osteomalacia ( VIt D 11 )' 'MS ???'\n",
            " 'MCA infarct with aspiration Pneumonia' 'MND?'\n",
            " 'Likely Seronegative NMOSD' 'Likely Parkinson Disease'\n",
            " 'Likely Osteomalacia ( VIt D 11 )' 'Lower Back Ache'\n",
            " 'Low Grade Pontine Glioma?' 'Likely Seronegative NMOSD' 'Letm'\n",
            " 'Left\\xa0cerebral\\xa0infarct' 'MS' 'Likely Osteomalacia ( VIt D 11 )'\n",
            " 'Lumbar PIVD' 'Likely Osteomalacia ( VIt D 11 )'\n",
            " 'Malignant MCA Ischemic Infarct'\n",
            " 'Lower Limb Weakness With Unirary Retention'\n",
            " 'Left basal ganglia haemorrhage with IVE' 'MS vs NMOSD'\n",
            " 'Left parital lobe Bleed' 'Letm' 'Left\\xa0cerebral\\xa0infarct'\n",
            " 'Left Thalamic Infarct' 'Letm'\n",
            " 'Likely Fahr,S Syndrome Secondary To Hyppcalcemia'\n",
            " 'Left\\xa0cerebral\\xa0infarct' 'MND?' 'Lower Limb Weakness, Dysuria'\n",
            " 'MND?' 'Low Pressure Headach' 'Left\\xa0cerebral\\xa0infarct'\n",
            " 'Left\\xa0cerebral\\xa0infarct' 'Low Grade Pontine Glioma?' 'MND?'\n",
            " 'MND / ALS ??' 'Likely Osteomalacia ( VIt D 11 )'\n",
            " 'Left basal ganglia haemorrhage with IVE' 'Likely Parkinson Disease'\n",
            " 'Likely Seronegative NMOSD' 'Lower Limb Weakness With Unirary Retention'\n",
            " 'Likely Osteomalacia ( VIt D 11 )' 'Lower Limb Weakness, Dysuria'\n",
            " 'MCA Infarct' 'MS/Mogad/Nmosd???' 'Limb Weakness'\n",
            " 'Likely Seronegative NMOSD' 'Lower Limb Weakness, Dysuria'\n",
            " 'Likely Parkinson Disease' 'Limb Weakness' 'Likely Seronegative NMOSD'\n",
            " 'Low Pressure Headach' 'Letm' 'Left\\xa0cerebral\\xa0infarct'\n",
            " 'Low Pressure Headach' 'Likely Fahr,S Syndrome Secondary To Hyppcalcemia'\n",
            " 'Meningio-encephalitis ?' 'Malignant MCA Ischemic Infarct'\n",
            " 'Likely Osteomalacia ( VIt D 11 )'\n",
            " 'Lower Limb Weakness With Unirary Retention' 'Likely Parkinson Disease'\n",
            " 'MS' 'Lumber Radiculpathy' 'Left basal ganglia haemorrhage with IVE'\n",
            " 'Left parital lobe Bleed' 'Lower Limb Weakness With Unirary Retention'\n",
            " 'Likely Parkinson Disease' 'Low Grade Pontine Glioma?' 'Limb Weakness'\n",
            " 'Likely Seronegative NMOSD'\n",
            " 'Likely Fahr,S Syndrome Secondary To Hyppcalcemia' 'Low Pressure Headach'\n",
            " 'MND / ALS ??' 'Low Grade Pontine Glioma?' 'Low Grade Pontine Glioma?'\n",
            " 'Letm' 'Lower Limb Weakness With Unirary Retention'\n",
            " 'Low Pressure Headach' 'Lower Back Ache' 'Malignant MCA Ischemic Infarct'\n",
            " 'Letm' 'Likely Parkinson Disease' 'Likely Osteomalacia ( VIt D 11 )'\n",
            " 'Lower Limb Weakness' 'Low Grade Pontine Glioma?'\n",
            " 'Malignant MCA Infarct With Aspiration Pneumonia'\n",
            " 'Left basal ganglia haemorrhage with IVE' 'MALIGNANT MCA INFARCT'\n",
            " 'Likely Parkinson Disease' 'Left basal ganglia haemorrhage with IVE'\n",
            " 'Left\\xa0cerebral\\xa0infarct' 'Lumbar PIVD' 'MS vs NMOSD'\n",
            " 'Low Grade Pontine Glioma?' 'Low Pressure Headach'\n",
            " 'Malignant MCA Ischemic Infarct' 'Letm' 'Meningio Encephalitis'\n",
            " 'Left parital lobe Bleed' 'Lt Basal Gangilia H/Stroke' 'Letm']\n"
          ]
        }
      ]
    },
    {
      "cell_type": "code",
      "source": [],
      "metadata": {
        "id": "V9oMb5bjGMty"
      },
      "execution_count": null,
      "outputs": []
    }
  ]
}